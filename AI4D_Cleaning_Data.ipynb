{
 "cells": [
  {
   "cell_type": "markdown",
   "id": "cedca30c",
   "metadata": {},
   "source": [
    "### Project 1: AI4D Africa’s Anglophone Research Lab Tanzania Tourism Classification Challenge"
   ]
  },
  {
   "cell_type": "markdown",
   "id": "22d97b92",
   "metadata": {},
   "source": [
    "Load all data"
   ]
  },
  {
   "cell_type": "code",
   "execution_count": 2,
   "id": "b4e4ce8c",
   "metadata": {},
   "outputs": [],
   "source": [
    "import pandas as pd\n",
    "import seaborn as sns"
   ]
  },
  {
   "cell_type": "code",
   "execution_count": 3,
   "id": "0cf2e4c5",
   "metadata": {
    "scrolled": true
   },
   "outputs": [
    {
     "name": "stdout",
     "output_type": "stream",
     "text": [
      " Volume in drive C is OS\n",
      " Volume Serial Number is 6219-F346\n",
      "\n",
      " Directory of C:\\Users\\Anna Carollo\\AI4D-Data\n",
      "\n",
      "07/13/2023  05:16 PM    <DIR>          .\n",
      "07/17/2023  09:56 AM    <DIR>          ..\n",
      "07/13/2023  05:16 PM           135,818 SampleSubmission.csv\n",
      "07/13/2023  05:16 PM           979,230 Test.csv\n",
      "07/13/2023  05:15 PM         3,147,987 Train.csv\n",
      "07/13/2023  05:15 PM             1,251 VariableDefinitions.csv\n",
      "               4 File(s)      4,264,286 bytes\n",
      "               2 Dir(s)  317,850,607,616 bytes free\n"
     ]
    }
   ],
   "source": [
    "!dir AI4D-Data\\"
   ]
  },
  {
   "cell_type": "code",
   "execution_count": 5,
   "id": "2656fa5c",
   "metadata": {},
   "outputs": [
    {
     "data": {
      "text/html": [
       "<div>\n",
       "<style scoped>\n",
       "    .dataframe tbody tr th:only-of-type {\n",
       "        vertical-align: middle;\n",
       "    }\n",
       "\n",
       "    .dataframe tbody tr th {\n",
       "        vertical-align: top;\n",
       "    }\n",
       "\n",
       "    .dataframe thead th {\n",
       "        text-align: right;\n",
       "    }\n",
       "</style>\n",
       "<table border=\"1\" class=\"dataframe\">\n",
       "  <thead>\n",
       "    <tr style=\"text-align: right;\">\n",
       "      <th></th>\n",
       "      <th>total_female</th>\n",
       "      <th>total_male</th>\n",
       "      <th>night_mainland</th>\n",
       "      <th>night_zanzibar</th>\n",
       "    </tr>\n",
       "  </thead>\n",
       "  <tbody>\n",
       "    <tr>\n",
       "      <th>count</th>\n",
       "      <td>18504.000000</td>\n",
       "      <td>18500.000000</td>\n",
       "      <td>18506.000000</td>\n",
       "      <td>18506.000000</td>\n",
       "    </tr>\n",
       "    <tr>\n",
       "      <th>mean</th>\n",
       "      <td>0.936230</td>\n",
       "      <td>0.998757</td>\n",
       "      <td>9.141576</td>\n",
       "      <td>2.493516</td>\n",
       "    </tr>\n",
       "    <tr>\n",
       "      <th>std</th>\n",
       "      <td>1.215582</td>\n",
       "      <td>1.173177</td>\n",
       "      <td>14.127449</td>\n",
       "      <td>5.275156</td>\n",
       "    </tr>\n",
       "    <tr>\n",
       "      <th>min</th>\n",
       "      <td>0.000000</td>\n",
       "      <td>0.000000</td>\n",
       "      <td>0.000000</td>\n",
       "      <td>0.000000</td>\n",
       "    </tr>\n",
       "    <tr>\n",
       "      <th>25%</th>\n",
       "      <td>0.000000</td>\n",
       "      <td>1.000000</td>\n",
       "      <td>3.000000</td>\n",
       "      <td>0.000000</td>\n",
       "    </tr>\n",
       "    <tr>\n",
       "      <th>50%</th>\n",
       "      <td>1.000000</td>\n",
       "      <td>1.000000</td>\n",
       "      <td>6.000000</td>\n",
       "      <td>0.000000</td>\n",
       "    </tr>\n",
       "    <tr>\n",
       "      <th>75%</th>\n",
       "      <td>1.000000</td>\n",
       "      <td>1.000000</td>\n",
       "      <td>11.000000</td>\n",
       "      <td>4.000000</td>\n",
       "    </tr>\n",
       "    <tr>\n",
       "      <th>max</th>\n",
       "      <td>49.000000</td>\n",
       "      <td>58.000000</td>\n",
       "      <td>365.000000</td>\n",
       "      <td>240.000000</td>\n",
       "    </tr>\n",
       "  </tbody>\n",
       "</table>\n",
       "</div>"
      ],
      "text/plain": [
       "       total_female    total_male  night_mainland  night_zanzibar\n",
       "count  18504.000000  18500.000000    18506.000000    18506.000000\n",
       "mean       0.936230      0.998757        9.141576        2.493516\n",
       "std        1.215582      1.173177       14.127449        5.275156\n",
       "min        0.000000      0.000000        0.000000        0.000000\n",
       "25%        0.000000      1.000000        3.000000        0.000000\n",
       "50%        1.000000      1.000000        6.000000        0.000000\n",
       "75%        1.000000      1.000000       11.000000        4.000000\n",
       "max       49.000000     58.000000      365.000000      240.000000"
      ]
     },
     "execution_count": 5,
     "metadata": {},
     "output_type": "execute_result"
    }
   ],
   "source": [
    "dfTrain = pd.read_csv(\"AI4D-Data/Train.csv\")\n",
    "dfTrain.shape\n",
    "dfTrain.columns\n",
    "dfTrain.describe()"
   ]
  },
  {
   "cell_type": "code",
   "execution_count": 24,
   "id": "03648918",
   "metadata": {},
   "outputs": [
    {
     "data": {
      "text/plain": [
       "Tour_ID                   object\n",
       "country                   object\n",
       "age_group                 object\n",
       "travel_with               object\n",
       "total_female             float64\n",
       "total_male               float64\n",
       "purpose                   object\n",
       "main_activity             object\n",
       "info_source               object\n",
       "tour_arrangement          object\n",
       "package_transport_int     object\n",
       "package_accomodation      object\n",
       "package_food              object\n",
       "package_transport_tz      object\n",
       "package_sightseeing       object\n",
       "package_guided_tour       object\n",
       "package_insurance         object\n",
       "night_mainland             int64\n",
       "night_zanzibar             int64\n",
       "first_trip_tz             object\n",
       "cost_category             object\n",
       "dtype: object"
      ]
     },
     "execution_count": 24,
     "metadata": {},
     "output_type": "execute_result"
    }
   ],
   "source": [
    "dfTrain.dtypes"
   ]
  },
  {
   "cell_type": "code",
   "execution_count": 6,
   "id": "46a28c55",
   "metadata": {},
   "outputs": [
    {
     "data": {
      "text/html": [
       "<div>\n",
       "<style scoped>\n",
       "    .dataframe tbody tr th:only-of-type {\n",
       "        vertical-align: middle;\n",
       "    }\n",
       "\n",
       "    .dataframe tbody tr th {\n",
       "        vertical-align: top;\n",
       "    }\n",
       "\n",
       "    .dataframe thead th {\n",
       "        text-align: right;\n",
       "    }\n",
       "</style>\n",
       "<table border=\"1\" class=\"dataframe\">\n",
       "  <thead>\n",
       "    <tr style=\"text-align: right;\">\n",
       "      <th></th>\n",
       "      <th>total_female</th>\n",
       "      <th>total_male</th>\n",
       "      <th>night_mainland</th>\n",
       "      <th>night_zanzibar</th>\n",
       "    </tr>\n",
       "  </thead>\n",
       "  <tbody>\n",
       "    <tr>\n",
       "      <th>count</th>\n",
       "      <td>6167.000000</td>\n",
       "      <td>6168.000000</td>\n",
       "      <td>6169.00000</td>\n",
       "      <td>6169.000000</td>\n",
       "    </tr>\n",
       "    <tr>\n",
       "      <th>mean</th>\n",
       "      <td>0.922491</td>\n",
       "      <td>1.017510</td>\n",
       "      <td>9.31172</td>\n",
       "      <td>2.585832</td>\n",
       "    </tr>\n",
       "    <tr>\n",
       "      <th>std</th>\n",
       "      <td>1.173067</td>\n",
       "      <td>1.526274</td>\n",
       "      <td>16.36690</td>\n",
       "      <td>5.465058</td>\n",
       "    </tr>\n",
       "    <tr>\n",
       "      <th>min</th>\n",
       "      <td>0.000000</td>\n",
       "      <td>0.000000</td>\n",
       "      <td>0.00000</td>\n",
       "      <td>0.000000</td>\n",
       "    </tr>\n",
       "    <tr>\n",
       "      <th>25%</th>\n",
       "      <td>0.000000</td>\n",
       "      <td>1.000000</td>\n",
       "      <td>3.00000</td>\n",
       "      <td>0.000000</td>\n",
       "    </tr>\n",
       "    <tr>\n",
       "      <th>50%</th>\n",
       "      <td>1.000000</td>\n",
       "      <td>1.000000</td>\n",
       "      <td>6.00000</td>\n",
       "      <td>0.000000</td>\n",
       "    </tr>\n",
       "    <tr>\n",
       "      <th>75%</th>\n",
       "      <td>1.000000</td>\n",
       "      <td>1.000000</td>\n",
       "      <td>11.00000</td>\n",
       "      <td>4.000000</td>\n",
       "    </tr>\n",
       "    <tr>\n",
       "      <th>max</th>\n",
       "      <td>30.000000</td>\n",
       "      <td>90.000000</td>\n",
       "      <td>664.00000</td>\n",
       "      <td>174.000000</td>\n",
       "    </tr>\n",
       "  </tbody>\n",
       "</table>\n",
       "</div>"
      ],
      "text/plain": [
       "       total_female   total_male  night_mainland  night_zanzibar\n",
       "count   6167.000000  6168.000000      6169.00000     6169.000000\n",
       "mean       0.922491     1.017510         9.31172        2.585832\n",
       "std        1.173067     1.526274        16.36690        5.465058\n",
       "min        0.000000     0.000000         0.00000        0.000000\n",
       "25%        0.000000     1.000000         3.00000        0.000000\n",
       "50%        1.000000     1.000000         6.00000        0.000000\n",
       "75%        1.000000     1.000000        11.00000        4.000000\n",
       "max       30.000000    90.000000       664.00000      174.000000"
      ]
     },
     "execution_count": 6,
     "metadata": {},
     "output_type": "execute_result"
    }
   ],
   "source": [
    "dfTest = pd.read_csv(\"AI4D-Data/Test.csv\")\n",
    "dfTest.shape\n",
    "dfTest.columns\n",
    "dfTest.describe()"
   ]
  },
  {
   "cell_type": "code",
   "execution_count": 29,
   "id": "d33da479",
   "metadata": {},
   "outputs": [
    {
     "data": {
      "text/plain": [
       "Tour_ID                   object\n",
       "country                   object\n",
       "age_group                 object\n",
       "travel_with               object\n",
       "total_female             float64\n",
       "total_male               float64\n",
       "purpose                   object\n",
       "main_activity             object\n",
       "info_source               object\n",
       "tour_arrangement          object\n",
       "package_transport_int     object\n",
       "package_accomodation      object\n",
       "package_food              object\n",
       "package_transport_tz      object\n",
       "package_sightseeing       object\n",
       "package_guided_tour       object\n",
       "package_insurance         object\n",
       "night_mainland             int64\n",
       "night_zanzibar             int64\n",
       "first_trip_tz             object\n",
       "dtype: object"
      ]
     },
     "execution_count": 29,
     "metadata": {},
     "output_type": "execute_result"
    }
   ],
   "source": [
    "dfTest.dtypes"
   ]
  },
  {
   "cell_type": "code",
   "execution_count": 10,
   "id": "229cdf87",
   "metadata": {},
   "outputs": [
    {
     "data": {
      "text/html": [
       "<div>\n",
       "<style scoped>\n",
       "    .dataframe tbody tr th:only-of-type {\n",
       "        vertical-align: middle;\n",
       "    }\n",
       "\n",
       "    .dataframe tbody tr th {\n",
       "        vertical-align: top;\n",
       "    }\n",
       "\n",
       "    .dataframe thead th {\n",
       "        text-align: right;\n",
       "    }\n",
       "</style>\n",
       "<table border=\"1\" class=\"dataframe\">\n",
       "  <thead>\n",
       "    <tr style=\"text-align: right;\">\n",
       "      <th></th>\n",
       "      <th>Tour_ID</th>\n",
       "      <th>High Cost</th>\n",
       "      <th>Higher Cost</th>\n",
       "      <th>Highest Cost</th>\n",
       "      <th>Low Cost</th>\n",
       "      <th>Lower Cost</th>\n",
       "      <th>Normal Cost</th>\n",
       "    </tr>\n",
       "  </thead>\n",
       "  <tbody>\n",
       "    <tr>\n",
       "      <th>0</th>\n",
       "      <td>tour_idynufedne</td>\n",
       "      <td>0.23</td>\n",
       "      <td>0.56</td>\n",
       "      <td>0.04</td>\n",
       "      <td>0.12</td>\n",
       "      <td>0.005</td>\n",
       "      <td>0.12</td>\n",
       "    </tr>\n",
       "    <tr>\n",
       "      <th>1</th>\n",
       "      <td>tour_id9r3y5moe</td>\n",
       "      <td>NaN</td>\n",
       "      <td>NaN</td>\n",
       "      <td>NaN</td>\n",
       "      <td>NaN</td>\n",
       "      <td>NaN</td>\n",
       "      <td>NaN</td>\n",
       "    </tr>\n",
       "    <tr>\n",
       "      <th>2</th>\n",
       "      <td>tour_idf6itml6g</td>\n",
       "      <td>NaN</td>\n",
       "      <td>NaN</td>\n",
       "      <td>NaN</td>\n",
       "      <td>NaN</td>\n",
       "      <td>NaN</td>\n",
       "      <td>NaN</td>\n",
       "    </tr>\n",
       "    <tr>\n",
       "      <th>3</th>\n",
       "      <td>tour_id99u4znru</td>\n",
       "      <td>NaN</td>\n",
       "      <td>NaN</td>\n",
       "      <td>NaN</td>\n",
       "      <td>NaN</td>\n",
       "      <td>NaN</td>\n",
       "      <td>NaN</td>\n",
       "    </tr>\n",
       "    <tr>\n",
       "      <th>4</th>\n",
       "      <td>tour_idj4i9urbx</td>\n",
       "      <td>NaN</td>\n",
       "      <td>NaN</td>\n",
       "      <td>NaN</td>\n",
       "      <td>NaN</td>\n",
       "      <td>NaN</td>\n",
       "      <td>NaN</td>\n",
       "    </tr>\n",
       "  </tbody>\n",
       "</table>\n",
       "</div>"
      ],
      "text/plain": [
       "           Tour_ID  High Cost  Higher Cost  Highest Cost  Low Cost  \\\n",
       "0  tour_idynufedne       0.23         0.56          0.04      0.12   \n",
       "1  tour_id9r3y5moe        NaN          NaN           NaN       NaN   \n",
       "2  tour_idf6itml6g        NaN          NaN           NaN       NaN   \n",
       "3  tour_id99u4znru        NaN          NaN           NaN       NaN   \n",
       "4  tour_idj4i9urbx        NaN          NaN           NaN       NaN   \n",
       "\n",
       "   Lower Cost  Normal Cost  \n",
       "0       0.005         0.12  \n",
       "1         NaN          NaN  \n",
       "2         NaN          NaN  \n",
       "3         NaN          NaN  \n",
       "4         NaN          NaN  "
      ]
     },
     "execution_count": 10,
     "metadata": {},
     "output_type": "execute_result"
    }
   ],
   "source": [
    "sample_submission = pd.read_csv(\"AI4D-Data/SampleSubmission.csv\")\n",
    "sample_submission.shape\n",
    "sample_submission.columns\n",
    "sample_submission.head()"
   ]
  },
  {
   "cell_type": "code",
   "execution_count": 7,
   "id": "2a7028dd",
   "metadata": {},
   "outputs": [
    {
     "data": {
      "text/plain": [
       "<bound method NDFrame.head of               Column Name                                         Definition\n",
       "0                      id                 Unique identifier for each tourist\n",
       "1                 country                The country a tourist coming  from.\n",
       "2               age_group                        The age group of a tourist.\n",
       "3             travel_with  The relation of people a tourist travel with t...\n",
       "4            total_female                            Total number of females\n",
       "5              total_male                              Total number of males\n",
       "6                 purpose                  The purpose of visiting  Tanzania\n",
       "7           main_activity           The main activity of tourism in Tanzania\n",
       "8            infor_source  The source of information about tourism in Tan...\n",
       "9         tour_arrangment                The arrangment of visiting Tanzania\n",
       "10  package_transport_int  If the tour package include international tran...\n",
       "11   package_accomodation  If the tour package include accommodation service\n",
       "12           package_food           If the tour package include food service\n",
       "13   package_transport_tz  If the tour package include transport service ...\n",
       "14    package_sightseeing    If the tour package include sightseeing service\n",
       "15    package_guided_tour             If the tour package include tour guide\n",
       "16      package_insurance      if the tour package include insurance service\n",
       "17         night_mainland  Number of nights a tourist spent in Tanzania m...\n",
       "18         night_zanzibar       Number of nights a tourist spent in Zanzibar\n",
       "19          first_trip_tz                If it was a first  trip to Tanzania\n",
       "20          cost_category  The range of expenditures a tourist spends in ...>"
      ]
     },
     "execution_count": 7,
     "metadata": {},
     "output_type": "execute_result"
    }
   ],
   "source": [
    "variable_definitions = pd.read_csv(\"AI4D-Data/VariableDefinitions.csv\")\n",
    "variable_definitions.head"
   ]
  },
  {
   "cell_type": "markdown",
   "id": "9ad7a2d6",
   "metadata": {},
   "source": [
    "The code below consists of data cleaning for the Train.csv data."
   ]
  },
  {
   "cell_type": "code",
   "execution_count": 8,
   "id": "96feeae5",
   "metadata": {},
   "outputs": [
    {
     "data": {
      "text/plain": [
       "array(['Yes', 'No'], dtype=object)"
      ]
     },
     "execution_count": 8,
     "metadata": {},
     "output_type": "execute_result"
    }
   ],
   "source": [
    "dfTrain['package_transport_tz'].unique()"
   ]
  },
  {
   "cell_type": "code",
   "execution_count": 10,
   "id": "0179790a",
   "metadata": {},
   "outputs": [
    {
     "data": {
      "text/plain": [
       "0        1\n",
       "1        1\n",
       "2        1\n",
       "3        0\n",
       "4        1\n",
       "        ..\n",
       "18501    0\n",
       "18502    0\n",
       "18503    0\n",
       "18504    1\n",
       "18505    0\n",
       "Name: package_transport_tz, Length: 18506, dtype: int64"
      ]
     },
     "execution_count": 10,
     "metadata": {},
     "output_type": "execute_result"
    }
   ],
   "source": [
    "dfTrain['package_transport_tz'] = dfTrain['package_transport_tz'].replace('Yes',1)\n",
    "dfTrain['package_transport_tz'] = dfTrain['package_transport_tz'].replace('No',0)\n",
    "\n",
    "dfTrain['package_transport_tz']"
   ]
  },
  {
   "cell_type": "code",
   "execution_count": 12,
   "id": "d2f07db4",
   "metadata": {},
   "outputs": [
    {
     "data": {
      "text/plain": [
       "array(['No', 'Yes'], dtype=object)"
      ]
     },
     "execution_count": 12,
     "metadata": {},
     "output_type": "execute_result"
    }
   ],
   "source": [
    "dfTrain['package_sightseeing'].unique()"
   ]
  },
  {
   "cell_type": "code",
   "execution_count": 13,
   "id": "bc0db53e",
   "metadata": {},
   "outputs": [
    {
     "data": {
      "text/plain": [
       "0        1\n",
       "1        1\n",
       "2        1\n",
       "3        0\n",
       "4        1\n",
       "        ..\n",
       "18501    0\n",
       "18502    0\n",
       "18503    0\n",
       "18504    1\n",
       "18505    0\n",
       "Name: package_sightseeing, Length: 18506, dtype: int64"
      ]
     },
     "execution_count": 13,
     "metadata": {},
     "output_type": "execute_result"
    }
   ],
   "source": [
    "dfTrain['package_sightseeing'] = dfTrain['package_transport_tz'].replace('Yes',1)\n",
    "dfTrain['package_sightseeing'] = dfTrain['package_sightseeing'].replace('No',0)\n",
    "\n",
    "dfTrain['package_sightseeing']"
   ]
  },
  {
   "cell_type": "code",
   "execution_count": 14,
   "id": "805e843a",
   "metadata": {},
   "outputs": [
    {
     "data": {
      "text/plain": [
       "array(['No', 'Yes'], dtype=object)"
      ]
     },
     "execution_count": 14,
     "metadata": {},
     "output_type": "execute_result"
    }
   ],
   "source": [
    "dfTrain['package_guided_tour'].unique()"
   ]
  },
  {
   "cell_type": "code",
   "execution_count": 15,
   "id": "b540b0b3",
   "metadata": {},
   "outputs": [
    {
     "data": {
      "text/plain": [
       "0        0\n",
       "1        0\n",
       "2        1\n",
       "3        0\n",
       "4        1\n",
       "        ..\n",
       "18501    0\n",
       "18502    0\n",
       "18503    0\n",
       "18504    1\n",
       "18505    0\n",
       "Name: package_guided_tour, Length: 18506, dtype: int64"
      ]
     },
     "execution_count": 15,
     "metadata": {},
     "output_type": "execute_result"
    }
   ],
   "source": [
    "dfTrain['package_guided_tour'] = dfTrain['package_guided_tour'].replace('Yes',1)\n",
    "dfTrain['package_guided_tour'] = dfTrain['package_guided_tour'].replace('No',0)\n",
    "\n",
    "dfTrain['package_guided_tour']"
   ]
  },
  {
   "cell_type": "code",
   "execution_count": 18,
   "id": "a04f6b2f",
   "metadata": {},
   "outputs": [
    {
     "data": {
      "text/plain": [
       "0        0\n",
       "1        0\n",
       "2        0\n",
       "3        0\n",
       "4        1\n",
       "        ..\n",
       "18501    0\n",
       "18502    0\n",
       "18503    0\n",
       "18504    0\n",
       "18505    0\n",
       "Name: package_insurance, Length: 18506, dtype: int64"
      ]
     },
     "execution_count": 18,
     "metadata": {},
     "output_type": "execute_result"
    }
   ],
   "source": [
    "dfTrain['package_insurance'] = dfTrain['package_insurance'].replace('Yes',1)\n",
    "dfTrain['package_insurance'] = dfTrain['package_insurance'].replace('No',0)\n",
    "\n",
    "dfTrain['package_insurance']"
   ]
  },
  {
   "cell_type": "code",
   "execution_count": 16,
   "id": "180e0d5d",
   "metadata": {},
   "outputs": [
    {
     "data": {
      "text/plain": [
       "array([  0,   6,   3,   7,  14,   4,  60,  11,  17,  12,   8,   2,   5,\n",
       "        20,  18,  15,   1,  29,  10,  77,  27,  28,  24,   9, 100,  13,\n",
       "        42,  16,  30,  35,  44,  40,  23,  25,  45,  50,  26,  21,  56,\n",
       "        22,  33,  90, 120,  63, 248,  31,  70,  75,  62,  19,  86,  36,\n",
       "        34,  38,  54,  48,  32,  49, 180, 300,  43,  39,  83, 181,  58,\n",
       "        68,  88, 288,  55,  37,  47, 118,  92,  69, 279,  52,  85,  46,\n",
       "        80, 122, 365,  87, 240,  61, 210,  57,  66,  93, 104,  76,  79,\n",
       "        65,  89, 150, 160,  41,  74,  53, 126,  64,  51,  71, 182, 130,\n",
       "        82,  84, 364,  59,  94, 110], dtype=int64)"
      ]
     },
     "execution_count": 16,
     "metadata": {},
     "output_type": "execute_result"
    }
   ],
   "source": [
    "dfTrain['night_mainland'].unique()"
   ]
  },
  {
   "cell_type": "code",
   "execution_count": 17,
   "id": "1fe3e657",
   "metadata": {},
   "outputs": [
    {
     "data": {
      "text/plain": [
       "0         0\n",
       "1         0\n",
       "2         6\n",
       "3         3\n",
       "4         7\n",
       "         ..\n",
       "18501     3\n",
       "18502     2\n",
       "18503     9\n",
       "18504    13\n",
       "18505    22\n",
       "Name: night_mainland, Length: 18506, dtype: int64"
      ]
     },
     "execution_count": 17,
     "metadata": {},
     "output_type": "execute_result"
    }
   ],
   "source": [
    "dfTrain['night_mainland'] = dfTrain['night_mainland'].replace('Yes',1)\n",
    "dfTrain['night_mainland'] = dfTrain['night_mainland'].replace('No',0)\n",
    "\n",
    "dfTrain['night_mainland']"
   ]
  },
  {
   "cell_type": "code",
   "execution_count": 18,
   "id": "ad14faae",
   "metadata": {},
   "outputs": [
    {
     "data": {
      "text/plain": [
       "0        7\n",
       "1        7\n",
       "2        6\n",
       "3        0\n",
       "4        0\n",
       "        ..\n",
       "18501    0\n",
       "18502    0\n",
       "18503    0\n",
       "18504    4\n",
       "18505    0\n",
       "Name: night_zanzibar, Length: 18506, dtype: int64"
      ]
     },
     "execution_count": 18,
     "metadata": {},
     "output_type": "execute_result"
    }
   ],
   "source": [
    "dfTrain['night_zanzibar'].unique()\n",
    "\n",
    "dfTrain['night_zanzibar'] = dfTrain['night_zanzibar'].replace('Yes',1)\n",
    "dfTrain['night_zanzibar'] = dfTrain['night_zanzibar'].replace('No',0)\n",
    "\n",
    "dfTrain['night_zanzibar']"
   ]
  },
  {
   "cell_type": "code",
   "execution_count": 19,
   "id": "47811782",
   "metadata": {},
   "outputs": [
    {
     "data": {
      "text/plain": [
       "0        1\n",
       "1        1\n",
       "2        1\n",
       "3        0\n",
       "4        1\n",
       "        ..\n",
       "18501    0\n",
       "18502    0\n",
       "18503    1\n",
       "18504    0\n",
       "18505    0\n",
       "Name: first_trip_tz, Length: 18506, dtype: int64"
      ]
     },
     "execution_count": 19,
     "metadata": {},
     "output_type": "execute_result"
    }
   ],
   "source": [
    "dfTrain['first_trip_tz'].unique()\n",
    "\n",
    "dfTrain['first_trip_tz'] = dfTrain['first_trip_tz'].replace('Yes',1)\n",
    "dfTrain['first_trip_tz'] = dfTrain['first_trip_tz'].replace('No',0)\n",
    "\n",
    "dfTrain['first_trip_tz']"
   ]
  },
  {
   "cell_type": "code",
   "execution_count": 22,
   "id": "67484ba4",
   "metadata": {},
   "outputs": [
    {
     "data": {
      "text/plain": [
       "0          High Cost\n",
       "1          High Cost\n",
       "2        Higher Cost\n",
       "3         Lower Cost\n",
       "4        Higher Cost\n",
       "            ...     \n",
       "18501     Lower Cost\n",
       "18502     Lower Cost\n",
       "18503    Higher Cost\n",
       "18504    Higher Cost\n",
       "18505       Low Cost\n",
       "Name: cost_category, Length: 18506, dtype: object"
      ]
     },
     "execution_count": 22,
     "metadata": {},
     "output_type": "execute_result"
    }
   ],
   "source": [
    "dfTrain['cost_category'].unique()\n",
    "\n",
    "dfTrain['cost_category'] = dfTrain['cost_category'].replace('Yes',1)\n",
    "dfTrain['cost_category'] = dfTrain['cost_category'].replace('No',0)\n",
    "\n",
    "dfTrain['cost_category']"
   ]
  },
  {
   "cell_type": "code",
   "execution_count": 25,
   "id": "d89c78d5",
   "metadata": {},
   "outputs": [
    {
     "data": {
      "text/html": [
       "<div>\n",
       "<style scoped>\n",
       "    .dataframe tbody tr th:only-of-type {\n",
       "        vertical-align: middle;\n",
       "    }\n",
       "\n",
       "    .dataframe tbody tr th {\n",
       "        vertical-align: top;\n",
       "    }\n",
       "\n",
       "    .dataframe thead th {\n",
       "        text-align: right;\n",
       "    }\n",
       "</style>\n",
       "<table border=\"1\" class=\"dataframe\">\n",
       "  <thead>\n",
       "    <tr style=\"text-align: right;\">\n",
       "      <th></th>\n",
       "      <th>total_female</th>\n",
       "      <th>total_male</th>\n",
       "      <th>package_sightseeing</th>\n",
       "      <th>package_guided_tour</th>\n",
       "      <th>night_mainland</th>\n",
       "      <th>night_zanzibar</th>\n",
       "      <th>first_trip_tz</th>\n",
       "      <th>Tour_ID_tour_id000yfpco</th>\n",
       "      <th>Tour_ID_tour_id000zcjd9</th>\n",
       "      <th>Tour_ID_tour_id003q62x6</th>\n",
       "      <th>...</th>\n",
       "      <th>package_transport_tz_No</th>\n",
       "      <th>package_transport_tz_Yes</th>\n",
       "      <th>package_insurance_No</th>\n",
       "      <th>package_insurance_Yes</th>\n",
       "      <th>cost_category_High Cost</th>\n",
       "      <th>cost_category_Higher Cost</th>\n",
       "      <th>cost_category_Highest Cost</th>\n",
       "      <th>cost_category_Low Cost</th>\n",
       "      <th>cost_category_Lower Cost</th>\n",
       "      <th>cost_category_Normal Cost</th>\n",
       "    </tr>\n",
       "  </thead>\n",
       "  <tbody>\n",
       "    <tr>\n",
       "      <th>0</th>\n",
       "      <td>0.0</td>\n",
       "      <td>2.0</td>\n",
       "      <td>1</td>\n",
       "      <td>0</td>\n",
       "      <td>0</td>\n",
       "      <td>7</td>\n",
       "      <td>1</td>\n",
       "      <td>0</td>\n",
       "      <td>0</td>\n",
       "      <td>0</td>\n",
       "      <td>...</td>\n",
       "      <td>0</td>\n",
       "      <td>1</td>\n",
       "      <td>1</td>\n",
       "      <td>0</td>\n",
       "      <td>1</td>\n",
       "      <td>0</td>\n",
       "      <td>0</td>\n",
       "      <td>0</td>\n",
       "      <td>0</td>\n",
       "      <td>0</td>\n",
       "    </tr>\n",
       "    <tr>\n",
       "      <th>1</th>\n",
       "      <td>1.0</td>\n",
       "      <td>1.0</td>\n",
       "      <td>1</td>\n",
       "      <td>0</td>\n",
       "      <td>0</td>\n",
       "      <td>7</td>\n",
       "      <td>1</td>\n",
       "      <td>0</td>\n",
       "      <td>0</td>\n",
       "      <td>0</td>\n",
       "      <td>...</td>\n",
       "      <td>0</td>\n",
       "      <td>1</td>\n",
       "      <td>1</td>\n",
       "      <td>0</td>\n",
       "      <td>1</td>\n",
       "      <td>0</td>\n",
       "      <td>0</td>\n",
       "      <td>0</td>\n",
       "      <td>0</td>\n",
       "      <td>0</td>\n",
       "    </tr>\n",
       "    <tr>\n",
       "      <th>2</th>\n",
       "      <td>1.0</td>\n",
       "      <td>1.0</td>\n",
       "      <td>1</td>\n",
       "      <td>1</td>\n",
       "      <td>6</td>\n",
       "      <td>6</td>\n",
       "      <td>1</td>\n",
       "      <td>0</td>\n",
       "      <td>0</td>\n",
       "      <td>0</td>\n",
       "      <td>...</td>\n",
       "      <td>0</td>\n",
       "      <td>1</td>\n",
       "      <td>1</td>\n",
       "      <td>0</td>\n",
       "      <td>0</td>\n",
       "      <td>1</td>\n",
       "      <td>0</td>\n",
       "      <td>0</td>\n",
       "      <td>0</td>\n",
       "      <td>0</td>\n",
       "    </tr>\n",
       "    <tr>\n",
       "      <th>3</th>\n",
       "      <td>3.0</td>\n",
       "      <td>1.0</td>\n",
       "      <td>0</td>\n",
       "      <td>0</td>\n",
       "      <td>3</td>\n",
       "      <td>0</td>\n",
       "      <td>0</td>\n",
       "      <td>0</td>\n",
       "      <td>0</td>\n",
       "      <td>0</td>\n",
       "      <td>...</td>\n",
       "      <td>1</td>\n",
       "      <td>0</td>\n",
       "      <td>1</td>\n",
       "      <td>0</td>\n",
       "      <td>0</td>\n",
       "      <td>0</td>\n",
       "      <td>0</td>\n",
       "      <td>0</td>\n",
       "      <td>1</td>\n",
       "      <td>0</td>\n",
       "    </tr>\n",
       "    <tr>\n",
       "      <th>4</th>\n",
       "      <td>0.0</td>\n",
       "      <td>1.0</td>\n",
       "      <td>1</td>\n",
       "      <td>1</td>\n",
       "      <td>7</td>\n",
       "      <td>0</td>\n",
       "      <td>1</td>\n",
       "      <td>0</td>\n",
       "      <td>0</td>\n",
       "      <td>0</td>\n",
       "      <td>...</td>\n",
       "      <td>0</td>\n",
       "      <td>1</td>\n",
       "      <td>0</td>\n",
       "      <td>1</td>\n",
       "      <td>0</td>\n",
       "      <td>1</td>\n",
       "      <td>0</td>\n",
       "      <td>0</td>\n",
       "      <td>0</td>\n",
       "      <td>0</td>\n",
       "    </tr>\n",
       "    <tr>\n",
       "      <th>...</th>\n",
       "      <td>...</td>\n",
       "      <td>...</td>\n",
       "      <td>...</td>\n",
       "      <td>...</td>\n",
       "      <td>...</td>\n",
       "      <td>...</td>\n",
       "      <td>...</td>\n",
       "      <td>...</td>\n",
       "      <td>...</td>\n",
       "      <td>...</td>\n",
       "      <td>...</td>\n",
       "      <td>...</td>\n",
       "      <td>...</td>\n",
       "      <td>...</td>\n",
       "      <td>...</td>\n",
       "      <td>...</td>\n",
       "      <td>...</td>\n",
       "      <td>...</td>\n",
       "      <td>...</td>\n",
       "      <td>...</td>\n",
       "      <td>...</td>\n",
       "    </tr>\n",
       "    <tr>\n",
       "      <th>18501</th>\n",
       "      <td>0.0</td>\n",
       "      <td>1.0</td>\n",
       "      <td>0</td>\n",
       "      <td>0</td>\n",
       "      <td>3</td>\n",
       "      <td>0</td>\n",
       "      <td>0</td>\n",
       "      <td>0</td>\n",
       "      <td>0</td>\n",
       "      <td>0</td>\n",
       "      <td>...</td>\n",
       "      <td>1</td>\n",
       "      <td>0</td>\n",
       "      <td>1</td>\n",
       "      <td>0</td>\n",
       "      <td>0</td>\n",
       "      <td>0</td>\n",
       "      <td>0</td>\n",
       "      <td>0</td>\n",
       "      <td>1</td>\n",
       "      <td>0</td>\n",
       "    </tr>\n",
       "    <tr>\n",
       "      <th>18502</th>\n",
       "      <td>1.0</td>\n",
       "      <td>0.0</td>\n",
       "      <td>0</td>\n",
       "      <td>0</td>\n",
       "      <td>2</td>\n",
       "      <td>0</td>\n",
       "      <td>0</td>\n",
       "      <td>0</td>\n",
       "      <td>0</td>\n",
       "      <td>0</td>\n",
       "      <td>...</td>\n",
       "      <td>1</td>\n",
       "      <td>0</td>\n",
       "      <td>1</td>\n",
       "      <td>0</td>\n",
       "      <td>0</td>\n",
       "      <td>0</td>\n",
       "      <td>0</td>\n",
       "      <td>0</td>\n",
       "      <td>1</td>\n",
       "      <td>0</td>\n",
       "    </tr>\n",
       "    <tr>\n",
       "      <th>18503</th>\n",
       "      <td>2.0</td>\n",
       "      <td>1.0</td>\n",
       "      <td>0</td>\n",
       "      <td>0</td>\n",
       "      <td>9</td>\n",
       "      <td>0</td>\n",
       "      <td>1</td>\n",
       "      <td>0</td>\n",
       "      <td>0</td>\n",
       "      <td>0</td>\n",
       "      <td>...</td>\n",
       "      <td>1</td>\n",
       "      <td>0</td>\n",
       "      <td>1</td>\n",
       "      <td>0</td>\n",
       "      <td>0</td>\n",
       "      <td>1</td>\n",
       "      <td>0</td>\n",
       "      <td>0</td>\n",
       "      <td>0</td>\n",
       "      <td>0</td>\n",
       "    </tr>\n",
       "    <tr>\n",
       "      <th>18504</th>\n",
       "      <td>1.0</td>\n",
       "      <td>1.0</td>\n",
       "      <td>1</td>\n",
       "      <td>1</td>\n",
       "      <td>13</td>\n",
       "      <td>4</td>\n",
       "      <td>0</td>\n",
       "      <td>0</td>\n",
       "      <td>0</td>\n",
       "      <td>0</td>\n",
       "      <td>...</td>\n",
       "      <td>0</td>\n",
       "      <td>1</td>\n",
       "      <td>1</td>\n",
       "      <td>0</td>\n",
       "      <td>0</td>\n",
       "      <td>1</td>\n",
       "      <td>0</td>\n",
       "      <td>0</td>\n",
       "      <td>0</td>\n",
       "      <td>0</td>\n",
       "    </tr>\n",
       "    <tr>\n",
       "      <th>18505</th>\n",
       "      <td>2.0</td>\n",
       "      <td>1.0</td>\n",
       "      <td>0</td>\n",
       "      <td>0</td>\n",
       "      <td>22</td>\n",
       "      <td>0</td>\n",
       "      <td>0</td>\n",
       "      <td>0</td>\n",
       "      <td>0</td>\n",
       "      <td>0</td>\n",
       "      <td>...</td>\n",
       "      <td>1</td>\n",
       "      <td>0</td>\n",
       "      <td>1</td>\n",
       "      <td>0</td>\n",
       "      <td>0</td>\n",
       "      <td>0</td>\n",
       "      <td>0</td>\n",
       "      <td>1</td>\n",
       "      <td>0</td>\n",
       "      <td>0</td>\n",
       "    </tr>\n",
       "  </tbody>\n",
       "</table>\n",
       "<p>18506 rows × 18698 columns</p>\n",
       "</div>"
      ],
      "text/plain": [
       "       total_female  total_male  package_sightseeing  package_guided_tour  \\\n",
       "0               0.0         2.0                    1                    0   \n",
       "1               1.0         1.0                    1                    0   \n",
       "2               1.0         1.0                    1                    1   \n",
       "3               3.0         1.0                    0                    0   \n",
       "4               0.0         1.0                    1                    1   \n",
       "...             ...         ...                  ...                  ...   \n",
       "18501           0.0         1.0                    0                    0   \n",
       "18502           1.0         0.0                    0                    0   \n",
       "18503           2.0         1.0                    0                    0   \n",
       "18504           1.0         1.0                    1                    1   \n",
       "18505           2.0         1.0                    0                    0   \n",
       "\n",
       "       night_mainland  night_zanzibar  first_trip_tz  Tour_ID_tour_id000yfpco  \\\n",
       "0                   0               7              1                        0   \n",
       "1                   0               7              1                        0   \n",
       "2                   6               6              1                        0   \n",
       "3                   3               0              0                        0   \n",
       "4                   7               0              1                        0   \n",
       "...               ...             ...            ...                      ...   \n",
       "18501               3               0              0                        0   \n",
       "18502               2               0              0                        0   \n",
       "18503               9               0              1                        0   \n",
       "18504              13               4              0                        0   \n",
       "18505              22               0              0                        0   \n",
       "\n",
       "       Tour_ID_tour_id000zcjd9  Tour_ID_tour_id003q62x6  ...  \\\n",
       "0                            0                        0  ...   \n",
       "1                            0                        0  ...   \n",
       "2                            0                        0  ...   \n",
       "3                            0                        0  ...   \n",
       "4                            0                        0  ...   \n",
       "...                        ...                      ...  ...   \n",
       "18501                        0                        0  ...   \n",
       "18502                        0                        0  ...   \n",
       "18503                        0                        0  ...   \n",
       "18504                        0                        0  ...   \n",
       "18505                        0                        0  ...   \n",
       "\n",
       "       package_transport_tz_No  package_transport_tz_Yes  \\\n",
       "0                            0                         1   \n",
       "1                            0                         1   \n",
       "2                            0                         1   \n",
       "3                            1                         0   \n",
       "4                            0                         1   \n",
       "...                        ...                       ...   \n",
       "18501                        1                         0   \n",
       "18502                        1                         0   \n",
       "18503                        1                         0   \n",
       "18504                        0                         1   \n",
       "18505                        1                         0   \n",
       "\n",
       "       package_insurance_No  package_insurance_Yes  cost_category_High Cost  \\\n",
       "0                         1                      0                        1   \n",
       "1                         1                      0                        1   \n",
       "2                         1                      0                        0   \n",
       "3                         1                      0                        0   \n",
       "4                         0                      1                        0   \n",
       "...                     ...                    ...                      ...   \n",
       "18501                     1                      0                        0   \n",
       "18502                     1                      0                        0   \n",
       "18503                     1                      0                        0   \n",
       "18504                     1                      0                        0   \n",
       "18505                     1                      0                        0   \n",
       "\n",
       "       cost_category_Higher Cost  cost_category_Highest Cost  \\\n",
       "0                              0                           0   \n",
       "1                              0                           0   \n",
       "2                              1                           0   \n",
       "3                              0                           0   \n",
       "4                              1                           0   \n",
       "...                          ...                         ...   \n",
       "18501                          0                           0   \n",
       "18502                          0                           0   \n",
       "18503                          1                           0   \n",
       "18504                          1                           0   \n",
       "18505                          0                           0   \n",
       "\n",
       "       cost_category_Low Cost  cost_category_Lower Cost  \\\n",
       "0                           0                         0   \n",
       "1                           0                         0   \n",
       "2                           0                         0   \n",
       "3                           0                         1   \n",
       "4                           0                         0   \n",
       "...                       ...                       ...   \n",
       "18501                       0                         1   \n",
       "18502                       0                         1   \n",
       "18503                       0                         0   \n",
       "18504                       0                         0   \n",
       "18505                       1                         0   \n",
       "\n",
       "       cost_category_Normal Cost  \n",
       "0                              0  \n",
       "1                              0  \n",
       "2                              0  \n",
       "3                              0  \n",
       "4                              0  \n",
       "...                          ...  \n",
       "18501                          0  \n",
       "18502                          0  \n",
       "18503                          0  \n",
       "18504                          0  \n",
       "18505                          0  \n",
       "\n",
       "[18506 rows x 18698 columns]"
      ]
     },
     "execution_count": 25,
     "metadata": {},
     "output_type": "execute_result"
    }
   ],
   "source": [
    "pd.get_dummies(dfTrain)"
   ]
  },
  {
   "cell_type": "code",
   "execution_count": 26,
   "id": "6997c972",
   "metadata": {},
   "outputs": [
    {
     "data": {
      "text/plain": [
       "<seaborn.axisgrid.FacetGrid at 0x27927daf490>"
      ]
     },
     "execution_count": 26,
     "metadata": {},
     "output_type": "execute_result"
    },
    {
     "data": {
      "image/png": "[encoded data removed]",
      "text/plain": [
       "<Figure size 500x500 with 1 Axes>"
      ]
     },
     "metadata": {},
     "output_type": "display_data"
    }
   ],
   "source": [
    "sns.catplot(dfTrain)"
   ]
  },
  {
   "cell_type": "code",
   "execution_count": null,
   "id": "2cd4b207",
   "metadata": {},
   "outputs": [],
   "source": []
  }
 ],
 "metadata": {
  "kernelspec": {
   "display_name": "Python 3 (ipykernel)",
   "language": "python",
   "name": "python3"
  },
  "language_info": {
   "codemirror_mode": {
    "name": "ipython",
    "version": 3
   },
   "file_extension": ".py",
   "mimetype": "text/x-python",
   "name": "python",
   "nbconvert_exporter": "python",
   "pygments_lexer": "ipython3",
   "version": "3.10.9"
  }
 },
 "nbformat": 4,
 "nbformat_minor": 5
}
